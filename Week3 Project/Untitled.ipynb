{
 "cells": [
  {
   "cell_type": "markdown",
   "metadata": {},
   "source": [
    "# Week 3 Project"
   ]
  },
  {
   "cell_type": "code",
   "execution_count": 9,
   "metadata": {
    "collapsed": false
   },
   "outputs": [
    {
     "name": "stdout",
     "output_type": "stream",
     "text": [
      "Fetching package metadata .....\n"
     ]
    },
    {
     "name": "stderr",
     "output_type": "stream",
     "text": [
      "An unexpected error has occurred.\n",
      "Please consider posting the following information to the\n",
      "conda GitHub issue tracker at:\n",
      "\n",
      "    https://github.com/conda/conda/issues\n",
      "\n",
      "\n",
      "\n",
      "Current conda install:\n",
      "\n",
      "               platform : win-64\n",
      "          conda version : 4.3.8\n",
      "       conda is private : False\n",
      "      conda-env version : 4.3.8\n",
      "    conda-build version : not installed\n",
      "         python version : 3.6.0.final.0\n",
      "       requests version : 2.12.4\n",
      "       root environment : C:\\ProgramData\\Anaconda3  (writable)\n",
      "    default environment : C:\\ProgramData\\Anaconda3\n",
      "       envs directories : C:\\ProgramData\\Anaconda3\\envs\n",
      "          package cache : C:\\ProgramData\\Anaconda3\\pkgs\n",
      "           channel URLs : https://conda.anaconda.org/conda-forge/win-64\n",
      "                          https://conda.anaconda.org/conda-forge/noarch\n",
      "                          https://repo.continuum.io/pkgs/free/win-64\n",
      "                          https://repo.continuum.io/pkgs/free/noarch\n",
      "                          https://repo.continuum.io/pkgs/r/win-64\n",
      "                          https://repo.continuum.io/pkgs/r/noarch\n",
      "                          https://repo.continuum.io/pkgs/pro/win-64\n",
      "                          https://repo.continuum.io/pkgs/pro/noarch\n",
      "                          https://repo.continuum.io/pkgs/msys2/win-64\n",
      "                          https://repo.continuum.io/pkgs/msys2/noarch\n",
      "            config file : None\n",
      "           offline mode : False\n",
      "             user-agent : conda/4.3.8 requests/2.12.4 CPython/3.6.0 Windows/10 Windows/10.0.17134\n",
      "\n",
      "\n",
      "\n",
      "`$ C:\\ProgramData\\Anaconda3\\Scripts\\conda-script.py install -c conda-forge geopy --yes`\n",
      "\n",
      "\n",
      "\n",
      "\n",
      "    Traceback (most recent call last):\n",
      "      File \"C:\\ProgramData\\Anaconda3\\lib\\site-packages\\conda\\exceptions.py\", line 617, in conda_exception_handler\n",
      "        return_value = func(*args, **kwargs)\n",
      "      File \"C:\\ProgramData\\Anaconda3\\lib\\site-packages\\conda\\cli\\main.py\", line 137, in _main\n",
      "        exit_code = args.func(args, p)\n",
      "      File \"C:\\ProgramData\\Anaconda3\\lib\\site-packages\\conda\\cli\\main_install.py\", line 80, in execute\n",
      "        install(args, parser, 'install')\n",
      "      File \"C:\\ProgramData\\Anaconda3\\lib\\site-packages\\conda\\cli\\install.py\", line 210, in install\n",
      "        unknown=index_args['unknown'], prefix=prefix)\n",
      "      File \"C:\\ProgramData\\Anaconda3\\lib\\site-packages\\conda\\core\\index.py\", line 120, in get_index\n",
      "        index = fetch_index(channel_priority_map, use_cache=use_cache)\n",
      "      File \"C:\\ProgramData\\Anaconda3\\lib\\site-packages\\conda\\core\\index.py\", line 445, in fetch_index\n",
      "        repodatas = _collect_repodatas(use_cache, urls)\n",
      "      File \"C:\\ProgramData\\Anaconda3\\lib\\site-packages\\conda\\core\\index.py\", line 433, in _collect_repodatas\n",
      "        repodatas = _collect_repodatas_serial(use_cache, urls)\n",
      "      File \"C:\\ProgramData\\Anaconda3\\lib\\site-packages\\conda\\core\\index.py\", line 401, in _collect_repodatas_serial\n",
      "        for url in urls]\n",
      "      File \"C:\\ProgramData\\Anaconda3\\lib\\site-packages\\conda\\core\\index.py\", line 401, in <listcomp>\n",
      "        for url in urls]\n",
      "      File \"C:\\ProgramData\\Anaconda3\\lib\\site-packages\\conda\\core\\index.py\", line 141, in func\n",
      "        res = f(*args, **kwargs)\n",
      "      File \"C:\\ProgramData\\Anaconda3\\lib\\site-packages\\conda\\core\\index.py\", line 391, in fetch_repodata\n",
      "        with open(cache_path, 'w') as fo:\n",
      "    PermissionError: [Errno 13] Permission denied: 'C:\\\\ProgramData\\\\Anaconda3\\\\pkgs\\\\cache\\\\2116b818.json'\n",
      "\n"
     ]
    }
   ],
   "source": [
    "!conda install -c conda-forge geopy --yes"
   ]
  },
  {
   "cell_type": "code",
   "execution_count": 7,
   "metadata": {
    "collapsed": false
   },
   "outputs": [
    {
     "name": "stderr",
     "output_type": "stream",
     "text": [
      "usage: conda-script.py [-h] [-V] command ...\n",
      "conda-script.py: error: unrecognized arguments: # uncomment this line if you haven't completed the Foursquare API lab\n"
     ]
    },
    {
     "ename": "ModuleNotFoundError",
     "evalue": "No module named 'geopy'",
     "output_type": "error",
     "traceback": [
      "\u001b[0;31m---------------------------------------------------------------------------\u001b[0m",
      "\u001b[0;31mModuleNotFoundError\u001b[0m                       Traceback (most recent call last)",
      "\u001b[0;32m<ipython-input-7-e79b5531c3a9>\u001b[0m in \u001b[0;36m<module>\u001b[0;34m()\u001b[0m\n\u001b[1;32m      8\u001b[0m \u001b[1;33m\u001b[0m\u001b[0m\n\u001b[1;32m      9\u001b[0m \u001b[0mget_ipython\u001b[0m\u001b[1;33m(\u001b[0m\u001b[1;33m)\u001b[0m\u001b[1;33m.\u001b[0m\u001b[0msystem\u001b[0m\u001b[1;33m(\u001b[0m\u001b[1;34m\"conda install -c conda-forge geopy --yes # uncomment this line if you haven't completed the Foursquare API lab\"\u001b[0m\u001b[1;33m)\u001b[0m\u001b[1;33m\u001b[0m\u001b[0m\n\u001b[0;32m---> 10\u001b[0;31m \u001b[1;32mfrom\u001b[0m \u001b[0mgeopy\u001b[0m\u001b[1;33m.\u001b[0m\u001b[0mgeocoders\u001b[0m \u001b[1;32mimport\u001b[0m \u001b[0mNominatim\u001b[0m \u001b[1;31m# convert an address into latitude and longitude values\u001b[0m\u001b[1;33m\u001b[0m\u001b[0m\n\u001b[0m\u001b[1;32m     11\u001b[0m \u001b[1;33m\u001b[0m\u001b[0m\n\u001b[1;32m     12\u001b[0m \u001b[1;32mimport\u001b[0m \u001b[0mrequests\u001b[0m \u001b[1;31m# library to handle requests\u001b[0m\u001b[1;33m\u001b[0m\u001b[0m\n",
      "\u001b[0;31mModuleNotFoundError\u001b[0m: No module named 'geopy'"
     ]
    }
   ],
   "source": [
    "import numpy as np # library to handle data in a vectorized manner\n",
    "\n",
    "import pandas as pd # library for data analsysis\n",
    "pd.set_option('display.max_columns', None)\n",
    "pd.set_option('display.max_rows', None)\n",
    "\n",
    "import json # library to handle JSON files\n",
    "\n",
    "\n",
    "from geopy.geocoders import Nominatim # convert an address into latitude and longitude values\n",
    "\n",
    "import requests # library to handle requests\n",
    "from pandas.io.json import json_normalize # tranform JSON file into a pandas dataframe\n",
    "\n",
    "# Matplotlib and associated plotting modules\n",
    "import matplotlib.cm as cm\n",
    "import matplotlib.colors as colors\n",
    "\n",
    "# import k-means from clustering stage\n",
    "from sklearn.cluster import KMeans\n",
    "\n",
    "#!conda install -c conda-forge folium=0.5.0 --yes # uncomment this line if you haven't completed the Foursquare API lab\n",
    "import folium # map rendering library\n",
    "\n",
    "print('Libraries imported.')"
   ]
  }
 ],
 "metadata": {
  "kernelspec": {
   "display_name": "Python 3",
   "language": "python",
   "name": "python3"
  },
  "language_info": {
   "codemirror_mode": {
    "name": "ipython",
    "version": 3
   },
   "file_extension": ".py",
   "mimetype": "text/x-python",
   "name": "python",
   "nbconvert_exporter": "python",
   "pygments_lexer": "ipython3",
   "version": "3.6.0"
  }
 },
 "nbformat": 4,
 "nbformat_minor": 2
}
