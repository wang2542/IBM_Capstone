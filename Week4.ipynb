{
    "cells": [
        {
            "metadata": {
                "collapsed": true
            },
            "cell_type": "markdown",
            "source": "## Week 4 - Part 1\n### The Battle of Neighborhoods\n\n#### A description of the problem and a discussion of the background.\n\n### Description of the problem\n#### In the downtown Toronto, if someone is looking to open a restaurant, where would you recommend that they open it?\n#### From the student perspective, a lot of factors come into play while searching for the best accommodation, including location, passenger flow and rent fee. However, in this project, we will only focus on the loaction and the general atmosphere of the neighborhood for simplicity purpose.\n\n### Audience\n#### This research is designed to be useful for someone looking for a profitable location or a place to open a restaurant in downtown Toronto.\n\n### Main idea\n#### The main idea for this project is a good recommendation of location in downtown Toronto to open a restaurant based on the Bandwagon effect (great location) and passenger flow.\n\n## Week 4 - Part 2\n### Data\n#### In the final project, List of postal codes of Canada and Four square API will be used to solve the problem.\n\n#### List of postal codes of Canada : https://en.wikipedia.org/wiki/List_of_postal_codes_of_Canada:_M\n#### Four square API: https://developer.foursquare.com/"
        }
    ],
    "metadata": {
        "kernelspec": {
            "name": "python3",
            "display_name": "Python 3.6",
            "language": "python"
        },
        "language_info": {
            "name": "python",
            "version": "3.6.8",
            "mimetype": "text/x-python",
            "codemirror_mode": {
                "name": "ipython",
                "version": 3
            },
            "pygments_lexer": "ipython3",
            "nbconvert_exporter": "python",
            "file_extension": ".py"
        }
    },
    "nbformat": 4,
    "nbformat_minor": 1
}